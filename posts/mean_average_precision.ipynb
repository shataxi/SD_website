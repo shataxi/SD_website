{
 "cells": [
  {
   "cell_type": "raw",
   "metadata": {
    "vscode": {
     "languageId": "raw"
    }
   },
   "source": [
    "---\n",
    "title: Mean Average Precision\n",
    "jupyter: \"mean_average_precision\"\n",
    "description: \"An important metric in Object detection tasks\"\n",
    "author: \"Shataxi Dubey\"\n",
    "date: \"2024-05-23\"\n",
    "categories: [object detection, MAP]\n",
    "format:\n",
    "    html:\n",
    "        toc: true\n",
    "---"
   ]
  },
  {
   "cell_type": "markdown",
   "metadata": {},
   "source": [
    "https://youtu.be/FppOzcDvaDI?si=Dwv7FEAoaS9CLlGH\n",
    "\n",
    "It is a graph between precision and recall for different confidence score with a paricular IOU.\n",
    "The precision recall curve will be different for different IOUs.\n",
    "\n",
    "The area under the Precision-Recall curve is the average precision.\n",
    "Higher the area under curve, higher the average precision.\n",
    "\n",
    "Average Precision(AP) is calculated for each class.\n",
    "\n",
    "Mean Average Precision is calculated by taking average of the AP of two classes."
   ]
  },
  {
   "cell_type": "markdown",
   "metadata": {},
   "source": [
    "Suppose we have two classes : Dogs and Cats\n",
    "\n",
    "Now, we will calculate the Precision-Recall curve for dog class.\n",
    "Suppose there are two images of dog in which \n",
    "\n",
    "the number of ground truth boxes are : 4\n",
    "the number of predicted boxes are : 2\n",
    "\n",
    "For first image :\n",
    "\n",
    "the number of ground truth boxes are : 1\n",
    "the number of predicted boxes are : 2\n",
    "\n",
    "For Second image :\n",
    "\n",
    "the number of ground truth boxes are : 3\n",
    "the number of predicted boxes are : 2\n",
    "\n",
    "\n",
    "So we will start from first image with its first predicted bounding box.\n",
    "\n",
    "We will check:\n",
    "\n",
    "1. is the predicted box has IOU greater than threshold --> If yes then the predicted box is true positive \n",
    "\n",
    "2. If No then predicted box is false positive.\n",
    "\n",
    "\n",
    "\n",
    "Suppose the first predicted box has IOU greater than threshold then \n",
    "\n",
    "Precision till now : 1 divided by total predicted boxes till now which is equal to 1 , so precision is 1\n",
    "\n",
    "Recall till now: 1 divided by total number of ground truth boxes which is equal to 4, so recall is 0.25\n",
    "\n",
    "\n",
    "\n",
    "Now come to second predicted box of first image.\n",
    "\n",
    "Suppose the second predicted box has IOU less than threshold then \n",
    "\n",
    "Precision till now : 1 divided by total predicted boxes till now which is equal to 2 , so precision is 0.5\n",
    "\n",
    "Recall till now: 1 divided by total number of ground truth boxes which is equal to 4, so recall is 0.25\n",
    "\n",
    "\n",
    "Next, we will go to second image.\n",
    "\n",
    "Suppose the first predicted box has IOU greater than threshold then \n",
    "\n",
    "Precision till now : 2 divided by total predicted boxes till now which is equal to 3 , so precision is 0.66 (Why true positives are 2 because we have total correctly predicted boxes till now equal to 2)\n",
    "\n",
    "Recall till now: 2 divided by total number of ground truth boxes which is equal to 4, so recall is 0.5\n",
    "\n",
    "\n",
    "\n",
    "Now come to second predicted box of second image.\n",
    "\n",
    "Suppose the second predicted box has IOU less than threshold then \n",
    "\n",
    "Precision till now : 2 divided by total predicted boxes till now which is equal to 4 , so precision is 0.5\n",
    "\n",
    "Recall till now: 2 divided by total number of ground truth boxes which is equal to 4, so recall is 0.5\n",
    "\n",
    "\n",
    "\n",
    "\n",
    "Now for plotting the P-R curve, we need all precision values: 1, 0.5, 0.66, 0.5 and all recall values: 0.25, 0.25, 0.5, 0.5\n",
    "\n",
    "This will plot the curve for a particular IOU threshold. Now calculate the area under the curve, which will give the average precision at a particular threshold for Dog class.\n",
    "\n",
    "\n",
    "\n",
    "Similarly, we can do for Cat class and can get the average precision.\n",
    "\n",
    "\n",
    "\n",
    "\n",
    "To get the ean average precision, we take the average of the Average precision of the two classes."
   ]
  },
  {
   "cell_type": "markdown",
   "metadata": {},
   "source": []
  },
  {
   "cell_type": "markdown",
   "metadata": {},
   "source": []
  }
 ],
 "metadata": {
  "kernelspec": {
   "display_name": "base",
   "language": "python",
   "name": "python3"
  },
  "language_info": {
   "name": "python",
   "version": "3.9.7"
  }
 },
 "nbformat": 4,
 "nbformat_minor": 2
}
