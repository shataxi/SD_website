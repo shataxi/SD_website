{
 "cells": [
  {
   "cell_type": "markdown",
   "metadata": {},
   "source": [
    "---\n",
    "title: Object detection pipeline\n",
    "jupyter: \"Object_detection_pipeline\"\n",
    "description: \"Object detection pipeline\"\n",
    "author: \"Shataxi Dubey\"\n",
    "date: \"2024-08-01\"\n",
    "categories: [object detection]\n",
    "format:\n",
    "    html:\n",
    "        toc: true\n",
    "---"
   ]
  },
  {
   "cell_type": "markdown",
   "metadata": {},
   "source": [
    "![Object detection Pipeline](object_detection.drawio.png)"
   ]
  }
 ],
 "metadata": {
  "language_info": {
   "name": "python"
  }
 },
 "nbformat": 4,
 "nbformat_minor": 2
}
