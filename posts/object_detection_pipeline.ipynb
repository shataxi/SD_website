{
 "cells": [
  {
   "cell_type": "markdown",
   "metadata": {},
   "source": [
    "---\n",
    "title: Non max suppression\n",
    "jupyter: \"non_max_suppression\"\n",
    "description: \"Non max suppression suppresses bounding box with non max confidence scores\"\n",
    "author: \"Shataxi Dubey\"\n",
    "date: \"2024-05-23\"\n",
    "categories: [object detection, MAP]\n",
    "format:\n",
    "    html:\n",
    "        toc: true\n",
    "---"
   ]
  },
  {
   "cell_type": "markdown",
   "metadata": {},
   "source": [
    "![Object detection Pipeline](object_detection.drawio.png)"
   ]
  }
 ],
 "metadata": {
  "language_info": {
   "name": "python"
  }
 },
 "nbformat": 4,
 "nbformat_minor": 2
}
