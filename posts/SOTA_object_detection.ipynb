{
 "cells": [
  {
   "cell_type": "markdown",
   "metadata": {},
   "source": [
    "two stage detector --> one stage detector --> anchor free"
   ]
  }
 ],
 "metadata": {
  "language_info": {
   "name": "python"
  }
 },
 "nbformat": 4,
 "nbformat_minor": 2
}
