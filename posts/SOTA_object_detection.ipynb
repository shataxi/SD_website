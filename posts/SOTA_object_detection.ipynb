{
 "cells": [
  {
   "cell_type": "markdown",
   "metadata": {},
   "source": [
    "---\n",
    "title: Evolution in object detection\n",
    "jupyter: \"SOTA_object_detection\"\n",
    "description: \"state of the art models\"\n",
    "author: \"Shataxi Dubey\"\n",
    "date: \"2024-05-23\"\n",
    "categories: [object detection, SOTA]\n",
    "format:\n",
    "    html:\n",
    "        toc: true\n",
    "---"
   ]
  },
  {
   "cell_type": "markdown",
   "metadata": {},
   "source": [
    "two stage detector --> one stage detector --> anchor free"
   ]
  }
 ],
 "metadata": {
  "language_info": {
   "name": "python"
  }
 },
 "nbformat": 4,
 "nbformat_minor": 2
}
