{
 "cells": [
  {
   "cell_type": "markdown",
   "metadata": {},
   "source": [
    "---\n",
    "title: Non max suppression\n",
    "jupyter: \"non_max_suppression\"\n",
    "description: \"Non max suppression suppresses bounding box with non max confidence scores\"\n",
    "author: \"Shataxi Dubey\"\n",
    "date: \"2024-05-23\"\n",
    "categories: [object detection, MAP]\n",
    "format:\n",
    "    html:\n",
    "        toc: true\n",
    "---"
   ]
  },
  {
   "cell_type": "markdown",
   "metadata": {},
   "source": [
    "- Remove all the bounding boxes whose confidence is less than confidence threshld\n",
    "- For a particular category, find the bounding box with highest confidence score\n",
    "- Check its IOU with the other bounding boxes of same category\n",
    "- If the IOU > IOU threshold, this means that the box is bounding the same object in such case, we remove or suppress these boxes."
   ]
  }
 ],
 "metadata": {
  "language_info": {
   "name": "python"
  }
 },
 "nbformat": 4,
 "nbformat_minor": 2
}
