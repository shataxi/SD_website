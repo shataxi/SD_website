{
  "cells": [
    {
      "cell_type": "markdown",
      "metadata": {},
      "source": [
        "# Image Transformation\n",
        "\n",
        "Shataxi Dubey  \n",
        "2023-12-24"
      ],
      "id": "a5513b0d-cb48-4331-8802-7b3924601521"
    },
    {
      "cell_type": "raw",
      "metadata": {
        "raw_mimetype": "text/html"
      },
      "source": [
        "<!-- This is a post with executable code. -->"
      ],
      "id": "051a85d5-b09b-4c0d-9b11-531abe92e65a"
    },
    {
      "cell_type": "raw",
      "metadata": {
        "raw_mimetype": "text/html"
      },
      "source": [
        "<!-- {{< embed image-transformation.ipynb echo=true >}} -->"
      ],
      "id": "4789197b-90bb-4a02-9169-d0bdae9054f5"
    }
  ],
  "nbformat": 4,
  "nbformat_minor": 5,
  "metadata": {
    "kernelspec": {
      "display_name": "Python 3",
      "language": "python",
      "name": "python3"
    }
  }
}